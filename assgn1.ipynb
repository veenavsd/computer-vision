{
 "cells": [
  {
   "cell_type": "code",
   "execution_count": 20,
   "metadata": {},
   "outputs": [
    {
     "name": "stdout",
     "output_type": "stream",
     "text": [
      "TN=909\n",
      "FN=1543\n"
     ]
    }
   ],
   "source": [
    "import csv \n",
    "import sys\n",
    " \n",
    "f = open('C:/Users/Admin/Downloads/assgn.csv','r')\n",
    "reader = csv.reader(f)\n",
    "#for row in reader:\n",
    "#    print(row)\n",
    "t=0\n",
    "f1=0\n",
    "for row in reader:\n",
    "    if row[4]=='FALSE' and row[5]=='TN':\n",
    "        t=t+1\n",
    "    elif row[4]=='FALSE' and row[5]=='FN':\n",
    "        f1=f1+1\n",
    "    else:\n",
    "        continue\n",
    "print(\"TN=\"+str(t))\n",
    "print(\"FN=\"+str(f1))\n",
    "f.close()"
   ]
  }
 ],
 "metadata": {
  "kernelspec": {
   "display_name": "Python 3",
   "language": "python",
   "name": "python3"
  },
  "language_info": {
   "codemirror_mode": {
    "name": "ipython",
    "version": 3
   },
   "file_extension": ".py",
   "mimetype": "text/x-python",
   "name": "python",
   "nbconvert_exporter": "python",
   "pygments_lexer": "ipython3",
   "version": "3.6.3"
  }
 },
 "nbformat": 4,
 "nbformat_minor": 2
}
