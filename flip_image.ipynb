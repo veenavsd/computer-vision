{
 "cells": [
  {
   "cell_type": "code",
   "execution_count": 23,
   "metadata": {
    "collapsed": true
   },
   "outputs": [],
   "source": [
    "import cv2\n",
    "import numpy as np"
   ]
  },
  {
   "cell_type": "code",
   "execution_count": 26,
   "metadata": {},
   "outputs": [],
   "source": [
    "img1 = cv2.imread('C:/Users/Public/Pictures/Sample Pictures/pinafore.jpg',1)\n",
    "flipped_img = cv2.flip( img1,1 )\n",
    "display = np.concatenate((img1, flipped_img), axis=1)\n",
    "cv2.imshow(\"image\",display)\n",
    "cv2.imwrite('C:/Users/Public/Pictures/Sample Pictures/name_flipped.jpg', display)\n",
    "cv2.waitKey(0)\n",
    "cv2.destroyAllWindows()\n"
   ]
  }
 ],
 "metadata": {
  "kernelspec": {
   "display_name": "Python 3",
   "language": "python",
   "name": "python3"
  },
  "language_info": {
   "codemirror_mode": {
    "name": "ipython",
    "version": 3
   },
   "file_extension": ".py",
   "mimetype": "text/x-python",
   "name": "python",
   "nbconvert_exporter": "python",
   "pygments_lexer": "ipython3",
   "version": "3.6.3"
  }
 },
 "nbformat": 4,
 "nbformat_minor": 2
}
